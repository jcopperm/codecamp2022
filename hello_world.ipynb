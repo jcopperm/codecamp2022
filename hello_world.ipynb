{
 "cells": [
  {
   "cell_type": "markdown",
   "id": "673bcac1",
   "metadata": {},
   "source": [
    "## Time for your first (at least on your pi) line of python code!\n",
    "In the box below, type:\n",
    "\n",
    "print('Hello world!')\n",
    "\n",
    "then hit shift+enter on your keyboard to execute the python command! Print is the python command to print to screen, so if you see a line below which prints out 'Hello world!' then... success!"
   ]
  },
  {
   "cell_type": "code",
   "execution_count": null,
   "id": "5fb0d802",
   "metadata": {},
   "outputs": [],
   "source": []
  },
  {
   "cell_type": "markdown",
   "id": "1f941fa7",
   "metadata": {},
   "source": [
    "#### Surely you will want to save your first python command for posterity! Go to _File -> Save a copy in Drive_ and then click on the filename in the upper right to give a new name for this notebook with your changes saved (for instance, the new name of your notebook could be \"hello_world_myname\"). \n"
   ]
  }
 ],
 "metadata": {
  "kernelspec": {
   "display_name": "Python 3",
   "language": "python",
   "name": "python3"
  },
  "language_info": {
   "codemirror_mode": {
    "name": "ipython",
    "version": 3
   },
   "file_extension": ".py",
   "mimetype": "text/x-python",
   "name": "python",
   "nbconvert_exporter": "python",
   "pygments_lexer": "ipython3",
   "version": "3.8.8"
  }
 },
 "nbformat": 4,
 "nbformat_minor": 5
}
